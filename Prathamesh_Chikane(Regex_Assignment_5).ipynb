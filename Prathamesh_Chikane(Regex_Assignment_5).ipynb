{
  "nbformat": 4,
  "nbformat_minor": 0,
  "metadata": {
    "colab": {
      "name": "Prathamesh Chikane(Regex Assignment 5).ipynb",
      "provenance": []
    },
    "kernelspec": {
      "name": "python3",
      "display_name": "Python 3"
    },
    "language_info": {
      "name": "python"
    }
  },
  "cells": [
    {
      "cell_type": "markdown",
      "metadata": {
        "id": "O1l22H5ESpI6"
      },
      "source": [
        "ASSIGNMENT 5"
      ]
    },
    {
      "cell_type": "markdown",
      "metadata": {
        "id": "qlzuIhBQSrY7"
      },
      "source": [
        "PRATHAMESH CHIKANE"
      ]
    },
    {
      "cell_type": "markdown",
      "metadata": {
        "id": "feU3M2sSSuTz"
      },
      "source": [
        "Q.1 Given a list of integers, write a function to return the sum of all prime numbers in that list."
      ]
    },
    {
      "cell_type": "code",
      "metadata": {
        "colab": {
          "base_uri": "https://localhost:8080/"
        },
        "id": "ZgEU1BUAS5pI",
        "outputId": "97b54c03-124d-43c1-93ac-c8f8f714a024"
      },
      "source": [
        "def sum_primes(a):\n",
        "  sum = 0\n",
        "  for num in a:\n",
        "    if num > 1:\n",
        "      for i in range(2,num):\n",
        "        if (num % i) == 0:\n",
        "           break\n",
        "      else:\n",
        "        sum = sum + num\n",
        "  if sum < 1:\n",
        "    print(str(a))\n",
        "  else:\n",
        "    print(str(sum))\n",
        "sum_primes([1, 2, 3, 4, 5, 6, 8, 9, 10, 11])"
      ],
      "execution_count": 3,
      "outputs": [
        {
          "output_type": "stream",
          "name": "stdout",
          "text": [
            "21\n"
          ]
        }
      ]
    },
    {
      "cell_type": "markdown",
      "metadata": {
        "id": "rKLyjvaJUxLK"
      },
      "source": [
        "Q.2 Given a list of integers, write a function to check whether the list is strictly increasing or not."
      ]
    },
    {
      "cell_type": "code",
      "metadata": {
        "colab": {
          "base_uri": "https://localhost:8080/"
        },
        "id": "jlTJObklU2jv",
        "outputId": "d58de168-38a8-4e3b-b2e9-3d3598e56ef1"
      },
      "source": [
        "def solve(nums):\n",
        "  if len(nums) <= 2:\n",
        "    return True\n",
        "    if len(set(nums)) != len(nums):\n",
        "      return False\n",
        "  ordered = sorted(nums)\n",
        "  return nums == ordered or nums == ordered[::-1]\n",
        "print(solve([1, 2, 4, 5, 6, 10]))"
      ],
      "execution_count": 4,
      "outputs": [
        {
          "output_type": "stream",
          "name": "stdout",
          "text": [
            "True\n"
          ]
        }
      ]
    },
    {
      "cell_type": "markdown",
      "metadata": {
        "id": "oDVkd_F_Vdcn"
      },
      "source": [
        "Q.3 Write a function to check whether a given list is expanding or not (the difference between adjacent elements should keep on increasing)."
      ]
    },
    {
      "cell_type": "code",
      "metadata": {
        "colab": {
          "base_uri": "https://localhost:8080/"
        },
        "id": "K7aC73fCVlBU",
        "outputId": "44414678-74d9-4869-c39c-691477c71b50"
      },
      "source": [
        "def solve(nums):\n",
        "  if len(nums) <= 2:\n",
        "    return True\n",
        "    if len(set(nums)) != len(nums):\n",
        "      return False\n",
        "  ordered = sorted(nums)\n",
        "  return nums == ordered or nums == ordered[::-1]\n",
        "print(solve([18, 27, 46, 68, 69, 115]))\n",
        "\n"
      ],
      "execution_count": 5,
      "outputs": [
        {
          "output_type": "stream",
          "name": "stdout",
          "text": [
            "True\n"
          ]
        }
      ]
    },
    {
      "cell_type": "markdown",
      "metadata": {
        "id": "IJiATEkTWFH5"
      },
      "source": [
        "Q.4 Write a function to calculate all permutations of a given string. (Without using itertools)"
      ]
    },
    {
      "cell_type": "code",
      "metadata": {
        "colab": {
          "base_uri": "https://localhost:8080/"
        },
        "id": "u9nE8VG7WJOQ",
        "outputId": "0218ae32-0f65-46d7-acb7-9df8a19b5ffb"
      },
      "source": [
        "Str = input()\n",
        "result = []\n",
        "def permute(data, i, length):\n",
        "    if i == length:\n",
        "        result.append(''.join(data))\n",
        "    else:\n",
        "        for j in range(i, length):\n",
        "            data[i], data[j] = data[j], data[i]\n",
        "            permute(data, i + 1, length)\n",
        "            data[i], data[j] = data[j], data[i]\n",
        "permute(list(Str), 0, len(Str))\n",
        "print(str(result))"
      ],
      "execution_count": 7,
      "outputs": [
        {
          "output_type": "stream",
          "name": "stdout",
          "text": [
            "pqr\n",
            "['pqr', 'prq', 'qpr', 'qrp', 'rqp', 'rpq']\n"
          ]
        }
      ]
    }
  ]
}